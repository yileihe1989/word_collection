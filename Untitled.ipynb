{
 "cells": [
  {
   "cell_type": "code",
   "execution_count": 1,
   "metadata": {},
   "outputs": [],
   "source": [
    "import pandas as pd"
   ]
  },
  {
   "cell_type": "code",
   "execution_count": 60,
   "metadata": {},
   "outputs": [],
   "source": [
    "with open(\"./words_collection_backup.txt\") as f:\n",
    "    texts = []\n",
    "    for line in f:\n",
    "        if '---' not in line:\n",
    "            line = line.replace('\\t','---')\n",
    "        texts.append(line)\n",
    "        \n",
    "f.close()"
   ]
  },
  {
   "cell_type": "code",
   "execution_count": 62,
   "metadata": {},
   "outputs": [],
   "source": [
    "with open(\"./words_collection.txt\",\"w\") as w:\n",
    "    for line in texts:\n",
    "        w.write(line)\n",
    "w.close()"
   ]
  },
  {
   "cell_type": "code",
   "execution_count": 68,
   "metadata": {},
   "outputs": [],
   "source": [
    "tt = [[1,2],[2,3],[3,3]]"
   ]
  },
  {
   "cell_type": "code",
   "execution_count": 69,
   "metadata": {},
   "outputs": [
    {
     "data": {
      "text/plain": [
       "[3, 3]"
      ]
     },
     "execution_count": 69,
     "metadata": {},
     "output_type": "execute_result"
    }
   ],
   "source": [
    "tt.pop(2)"
   ]
  },
  {
   "cell_type": "code",
   "execution_count": 70,
   "metadata": {},
   "outputs": [
    {
     "data": {
      "text/plain": [
       "[[1, 2], [2, 3]]"
      ]
     },
     "execution_count": 70,
     "metadata": {},
     "output_type": "execute_result"
    }
   ],
   "source": [
    "tt"
   ]
  },
  {
   "cell_type": "code",
   "execution_count": 58,
   "metadata": {},
   "outputs": [],
   "source": [
    "tt.remove([2,3])"
   ]
  },
  {
   "cell_type": "code",
   "execution_count": 59,
   "metadata": {},
   "outputs": [
    {
     "data": {
      "text/plain": [
       "[[1, 2], [3, 3]]"
      ]
     },
     "execution_count": 59,
     "metadata": {},
     "output_type": "execute_result"
    }
   ],
   "source": [
    "tt"
   ]
  },
  {
   "cell_type": "code",
   "execution_count": 32,
   "metadata": {
    "collapsed": true
   },
   "outputs": [
    {
     "name": "stdout",
     "output_type": "stream",
     "text": [
      "['Progress comes not only in great *leaps* but also from hundreds of small steps\\t1']\n",
      "['paragon/paradigm\\t1']\n",
      "['aboveboard\\t1']\n",
      "['It is why we went through incredilbe lengths to find talents.\\t2']\n",
      "['tried-and-true\\t2']\n",
      "['Given how broad your *purview* is and how expansive your role is, I imagine you do not have an ordinary day.\\t2']\n",
      "['winnowing process\\t2']\n",
      "['vagary of weather\\t2']\n",
      "['what you ask is just shy of treason\\t2']\n",
      "['We are impressed with small feats accomplished by computers alone, but we ignore big achievements from complementary because the human contribution makes them less uncanny\\t2']\n",
      "['untenable\\t2']\n",
      "[\"He was chastened by his team's defeat\\t2\"]\n",
      "['upkeep\\t2']\n",
      "['Before Ed Thorp, mathematician of gambling has their love of chance largely unrequited.\\t2']\n",
      "['He is discerning and rigorous in this analysis of each pieces|discern\\t2']\n",
      "['cachet\\t2']\n",
      "['a abiding hobby/passion | I cannot abide to go back to square one\\t2']\n",
      "['My concentration was so complete that I lost the awareness of my surrounding.\\t2']\n",
      "['You let your personal vendettas turn your focus away from what is best for the firm.\\t2']\n",
      "['The angry audience walked out en masse\\t2']\n",
      "['He opted to become a living lesson in compouding, eschewing frivolous expenditures that might sap the power of his example\\t2']\n",
      "['angst\\t2']\n",
      "[\"I won't budge on that. \\t2\"]\n",
      "['dread\\t2']\n",
      "['Bottom out\\t2']\n",
      "['engender = beget: cause or give rise to\\t2']\n",
      "['we can now find the needle in haystack with incredible ease\\t2']\n",
      "['Never raise your flag for a asinine [proun] cause like slavery\\t2']\n",
      "['Sow the seed for a digital age that will blossom a hindered years later.\\t2']\n",
      "['dissmulate\\t2']\n",
      "['egregious\\t2']\n",
      "['The meeting end with acrimony on both sides\\t2']\n",
      "['I would preach the practical value of regular maintenance till I am hoarse and it would make not a dent in him\\t2']\n",
      "[\"Before I gave my talk at the meeting, I hadn't envisaged the clamor and the sortof publicity that would follow.\\t2\"]\n",
      "['Plans are deliberately indefinite, more to travel than to arrive anywhere\\t2']\n",
      "['matter-of-fact =unemotional\\t2']\n",
      "['He hoped to parlay his basketball skills into a college scholarship/ He has parlayed these attributes into great success/ parlay machine learning into investing\\t2']\n",
      "['affable\\t2']\n",
      "['marketing gimmick\\t2']\n",
      "['be of immediate practical use\\t2']\n",
      "['vicarious \\t2']\n",
      "['I took the opportunity to *exert some leverage*\\t2']\n",
      "['You have got a lot of edge going for you\\t2']\n",
      "['I have to give this speech three times before it finally *sunk in*.\\t2']\n",
      "['He is not supposed to *register* emotion.\\t2']\n",
      "['We are travellign up to a winding canyon road with a steep cliff immediately to our right and no guardrail.\\t2']\n",
      "['The club has been under a great deal of unfair scrutiny lately\\t2']\n",
      "['recourse to\\t2']\n",
      "['The unrivalled ability\\t3']\n",
      "[\"defy everybody's expectaitons\\t3\"]\n",
      "['We estimate that four-year undergraduate degree will cost in the ballpark $57,000 |  Doctor Adams pointed out that it cost about an underestimate, maybe, but in the right ballpark.\\t3']\n",
      "['Work up to your capability\\t3']\n",
      "['This has *fed a sense* that open economy is good for small elite but does nothing for the broad mass of people.\\t3']\n",
      "['rousing\\t3']\n",
      "['Points of view, tradition, and conventional wisdom that *looked to be* as solid as an iceberg, and just as permanent, can now suddenly melt in a day, in ways that used to take a generation.\\t3']\n",
      "['You cannot keep doing this, it is going to catch up with you.\\t3']\n",
      "['separate hype from reality\\t3']\n",
      "['unwavering commitment\\t3']\n",
      "['Make sure everything is checked in.\\t3']\n",
      "['Compulsive (uncontrollable) gambler\\t3']\n",
      "['steadfast | He remained steadfast in his belief that he is doing the right thing\\t3']\n",
      "['I had to learn it one piece at a time, it is very laborious(pron)\\t3']\n",
      "['fallout from something\\t3']\n",
      "['Display your modeling *mettle* to the hiring team\\t3']\n",
      "[\"I am not endorsing change for change's sake. There are often good reasons to *hang on* to things that work.\\t3\"]\n",
      "['It is precisely because of\\t3']\n",
      "['But to me, the key is not to let this trust, our faith, *lull us into* the *abdication* of personal responsibility. | abdication: failure to fulfill responsibility or duty\\t3']\n",
      "['We had to barge out way into things.\\t0']\n",
      "['There is nothing to *prompt* learning like pain and necessity, and this has given me plenty of both.\\t0']\n",
      "['To let an old man to master itimmediately is *a wishful thinking*.\\t0']\n",
      "['brows furrow\\t0']\n"
     ]
    }
   ],
   "source": [
    "for line in texts:\n",
    "    tt = line.strip().split(\"---\")\n",
    "    if len(tt) <= 1:\n",
    "        print(tt)"
   ]
  }
 ],
 "metadata": {
  "kernelspec": {
   "display_name": "Python 3",
   "language": "python",
   "name": "python3"
  },
  "language_info": {
   "codemirror_mode": {
    "name": "ipython",
    "version": 3
   },
   "file_extension": ".py",
   "mimetype": "text/x-python",
   "name": "python",
   "nbconvert_exporter": "python",
   "pygments_lexer": "ipython3",
   "version": "3.7.1"
  }
 },
 "nbformat": 4,
 "nbformat_minor": 2
}
