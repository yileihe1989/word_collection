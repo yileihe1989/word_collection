{
 "cells": [
  {
   "cell_type": "code",
   "execution_count": 1,
   "metadata": {},
   "outputs": [],
   "source": [
    "import matplotlib.pyplot as plt\n",
    "from matplotlib_venn import venn3\n"
   ]
  },
  {
   "cell_type": "code",
   "execution_count": 12,
   "metadata": {},
   "outputs": [
    {
     "data": {
      "image/png": "[encoded data removed]",
      "text/plain": [
       "<Figure size 432x288 with 1 Axes>"
      ]
     },
     "metadata": {},
     "output_type": "display_data"
    },
    {
     "data": {
      "text/plain": [
       "<Figure size 432x288 with 0 Axes>"
      ]
     },
     "metadata": {},
     "output_type": "display_data"
    }
   ],
   "source": [
    "lst1 = [\n",
    "        \"gene1\",\n",
    "        \"gene2\",\n",
    "        \"gene3\",\n",
    "        \"gene4\",\n",
    "        \"gene5\",\n",
    "        \"gene6\",\n",
    "        \"gene7\",\n",
    "        \"gene8\",\n",
    "        \"gene9\",\n",
    "        \"gene10\",\n",
    "    ]\n",
    "lst2 = [\n",
    "    \"gene0\",\n",
    "    \"gene1\",\n",
    "    \"gene2\",\n",
    "    \"gene3\",\n",
    "    \"gene8\",\n",
    "    \"gene9\",\n",
    "    \"gene10\",\n",
    "    \"gene11\",\n",
    "    \"gene12\",\n",
    "    \"gene13\",\n",
    "]\n",
    "lst3 = [\n",
    "    \"gene0\",\n",
    "    \"gene4\",\n",
    "    \"gene5\",\n",
    "    \"gene8\",\n",
    "    \"gene9\",\n",
    "    \"gene10\",\n",
    "    \"gene11\",\n",
    "    \"gene13\",\n",
    "    \"gene14\",\n",
    "    \"gene15\",\n",
    "    \"gene16\",\n",
    "]\n",
    "\n",
    "venn3(\n",
    "    [set(lst1), set(lst2), set(lst3)],\n",
    "    set_labels=(\n",
    "        \"Drug A responsive genes\",\n",
    "        \"Drug B responsive genes\",\n",
    "        \"Drug C responsive genes\",\n",
    "    ),\n",
    ")\n",
    "plt.savefig('venn2.svg')"
   ]
  },
  {
   "cell_type": "code",
   "execution_count": 11,
   "metadata": {},
   "outputs": [],
   "source": []
  }
 ],
 "metadata": {
  "kernelspec": {
   "display_name": "Python 3",
   "language": "python",
   "name": "python3"
  },
  "language_info": {
   "codemirror_mode": {
    "name": "ipython",
    "version": 3
   },
   "file_extension": ".py",
   "mimetype": "text/x-python",
   "name": "python",
   "nbconvert_exporter": "python",
   "pygments_lexer": "ipython3",
   "version": "3.7.4"
  }
 },
 "nbformat": 4,
 "nbformat_minor": 2
}
